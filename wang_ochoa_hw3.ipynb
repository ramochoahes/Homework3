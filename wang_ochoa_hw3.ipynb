{
 "cells": [
  {
   "cell_type": "code",
   "execution_count": 1,
   "metadata": {
    "collapsed": false
   },
   "outputs": [],
   "source": [
    "%matplotlib inline"
   ]
  },
  {
   "cell_type": "markdown",
   "metadata": {},
   "source": [
    "\n",
    "# CSCIE 81 Machine Learning Homework 3\n",
    "\n",
    "Lu Wang, Ram Ochoa \n"
   ]
  },
  {
   "cell_type": "code",
   "execution_count": 51,
   "metadata": {
    "collapsed": false
   },
   "outputs": [
    {
     "name": "stdout",
     "output_type": "stream",
     "text": [
      "Automatically created module for IPython interactive environment\n"
     ]
    }
   ],
   "source": [
    "print(__doc__)\n",
    "import operator \n",
    "import numpy as np\n",
    "import pandas as pd \n",
    "import matplotlib.pyplot as plt\n",
    "from matplotlib.colors import ListedColormap\n",
    "from sklearn.cross_validation import train_test_split, cross_val_score\n",
    "from sklearn.preprocessing import StandardScaler\n",
    "from sklearn.datasets import make_moons, make_circles, make_classification\n",
    "#from sklearn.neural_network import MLPClassifier\n",
    "from sklearn.neighbors import KNeighborsClassifier\n",
    "from sklearn.svm import SVC\n",
    "#from sklearn.gaussian_process import GaussianProcessClassifier\n",
    "#from sklearn.gaussian_process.kernels import RBF\n",
    "from sklearn.tree import DecisionTreeClassifier\n",
    "from sklearn.ensemble import RandomForestClassifier, AdaBoostClassifier\n",
    "from sklearn.naive_bayes import GaussianNB, MultinomialNB, BernoulliNB\n",
    "from sklearn.linear_model import LogisticRegression, LogisticRegressionCV\n",
    "from sklearn.discriminant_analysis import QuadraticDiscriminantAnalysis\n",
    "from sklearn.discriminant_analysis import LinearDiscriminantAnalysis\n",
    "from sklearn.decomposition import PCA\n"
   ]
  },
  {
   "cell_type": "markdown",
   "metadata": {},
   "source": [
    "### Loading and pre-processing data\n",
    "\n",
    "To begin with, I replaced NA's with zeros. \n",
    "\n",
    "Later, I will see how many features were mostly \"NA\". If they are not important, I will probably drop them. \n",
    "\n",
    "I'm creating two arrays: one to store how many NAs were in each feature, and the other to store how many NAs were in each observation. "
   ]
  },
  {
   "cell_type": "code",
   "execution_count": 3,
   "metadata": {
    "collapsed": false
   },
   "outputs": [],
   "source": [
    "NA_counts_per_feature = []\n",
    "for i in range(0, 334): \n",
    "    NA_counts_per_feature.append(0)\n",
    "\n",
    "NA_counts_per_observation = [] \n",
    "for i in range(0, 17379): \n",
    "    NA_counts_per_observation.append(0)\n",
    "\n",
    "### Load data in and replace NA->0 \n",
    "trainX = [] \n",
    "with open(\"/home/lu/Documents/School/81_machine_learning/HW3/HW3/trainingData.txt\", 'r') as rp: \n",
    "    row_i = 0 \n",
    "    for line in rp.read().split(\"\\n\"): \n",
    "        row = line.split(\"\\t\") \n",
    "        column_i = 0 # cell index \n",
    "        for cell in row: \n",
    "            try: \n",
    "                row[column_i] = float(cell)\n",
    "            except ValueError: \n",
    "                row[column_i] = 0 \n",
    "                NA_counts_per_feature[column_i]+=1 \n",
    "                NA_counts_per_observation[row_i]+=1 \n",
    "            column_i+=1  \n",
    "        row_i +=1 \n",
    "        trainX.append(row)\n",
    "        \n",
    "trainY = [] \n",
    "with open(\"/home/lu/Documents/School/81_machine_learning/HW3/HW3/trainingTruth.txt\", 'r') as rp: \n",
    "    for line in rp.read().split(\"\\n\"): \n",
    "        trainY.append(line)"
   ]
  },
  {
   "cell_type": "markdown",
   "metadata": {},
   "source": [
    "The max number of NAs in a column is 81, and 334 columns are missing data. The max number of NAs in a row is 7, and 11620 rows are missing data. \n",
    "\n",
    "This suggests that there aren't that many missing values per column. My worry that replacing them with zero might affect the model's predictive power. I could replace the missing values with the average of all of the columns. "
   ]
  },
  {
   "cell_type": "code",
   "execution_count": 4,
   "metadata": {
    "collapsed": false,
    "scrolled": false
   },
   "outputs": [
    {
     "name": "stdout",
     "output_type": "stream",
     "text": [
      "The max number of NAs in a column is 81, and 334 columns are missing data\n",
      "The max number of NAs in a row is 7, and 11620 rows are missing data\n"
     ]
    },
    {
     "data": {
      "image/png": "[encoded data removed]",
      "text/plain": [
       "<matplotlib.figure.Figure at 0x7fdff65fd898>"
      ]
     },
     "metadata": {},
     "output_type": "display_data"
    },
    {
     "data": {
      "image/png": "[encoded data removed]",
      "text/plain": [
       "<matplotlib.figure.Figure at 0x7fdfe86039b0>"
      ]
     },
     "metadata": {},
     "output_type": "display_data"
    },
    {
     "data": {
      "image/png": "[encoded data removed]",
      "text/plain": [
       "<matplotlib.figure.Figure at 0x7fdfe8449400>"
      ]
     },
     "metadata": {},
     "output_type": "display_data"
    }
   ],
   "source": [
    "import numpy as np \n",
    "import matplotlib as mpl \n",
    "import matplotlib.pyplot as plt \n",
    "\n",
    "### These arrays are the counts of NAs that were filled per feature , or per data entry \n",
    "NA_per_feature = np.array(NA_counts_per_feature)\n",
    "NA_per_observation = np.array(NA_counts_per_observation)\n",
    "\n",
    "count_of_columns_with_NAs = len([x for x in NA_counts_per_feature if x > 0 ])\n",
    "count_of_rows_with_NAs = len([x for x in NA_per_observation if x > 0 ])\n",
    "\n",
    "print(\"The max number of NAs in a column is %d, and %d columns are missing data\" % (max(NA_per_feature), count_of_columns_with_NAs))\n",
    "print(\"The max number of NAs in a row is %d, and %d rows are missing data\" % (max(NA_per_observation), count_of_rows_with_NAs)) \n",
    "\n",
    "data_to_plot = [NA_per_feature, NA_per_observation]\n",
    "\n",
    "plt.boxplot(data_to_plot)\n",
    "plt.show() \n",
    "\n",
    "n, bins, patches = plt.hist(NA_per_feature, 50)\n",
    "plt.show() \n",
    "n, bins, patches = plt.hist(NA_per_observation, 10)\n",
    "plt.show() "
   ]
  },
  {
   "cell_type": "markdown",
   "metadata": {},
   "source": [
    "From the plots, it looks like while more than half the rows are only missing a couple datapoints, the NA's are shared amoung all the features. The features missing the most entries are still missing 25 datapoints or fewer, less than 0.1% of the total. It doesn't make sense to remove features or all rows missing datapoints. We'd have little to no data left... \n",
    "\n",
    "Instead, let's try replacing the missing values with the average of the feature. Then, I'll compare the performance of models ran on NA->0 vs NA->feature mean. "
   ]
  },
  {
   "cell_type": "code",
   "execution_count": 5,
   "metadata": {
    "collapsed": false
   },
   "outputs": [],
   "source": [
    "### Sample some entries from the X data set \n",
    "sampleX = np.array(trainX[0:1000])\n",
    "\n",
    "### Calculate an array of means \n",
    "feature_means = np.mean(sampleX, axis=0)\n",
    "\n",
    "trainX_mean = [] \n",
    "with open(\"/home/lu/Documents/School/81_machine_learning/HW3/HW3/trainingData.txt\", 'r') as rp: \n",
    "    for line in rp.read().split(\"\\n\"): \n",
    "        row = line.split(\"\\t\") \n",
    "        column_i = 0 # cell index \n",
    "        for cell in row: \n",
    "            try: \n",
    "                row[column_i] = float(cell)\n",
    "            except ValueError: \n",
    "                row[column_i] = feature_means[column_i]\n",
    "            column_i+=1  \n",
    "        trainX_mean.append(row)\n",
    "        \n",
    "trainY_mean = [] \n",
    "with open(\"/home/lu/Documents/School/81_machine_learning/HW3/HW3/trainingTruth.txt\", 'r') as rp: \n",
    "    for line in rp.read().split(\"\\n\"): \n",
    "        trainY_mean.append(line)\n",
    "\n"
   ]
  },
  {
   "cell_type": "markdown",
   "metadata": {},
   "source": [
    "### Trying some models with zero-filled and mean-filled data \n",
    "\n",
    "For this first pass, try with a subset of our data, and try a LOT of models. I kept adding to this list after hearing more about new models."
   ]
  },
  {
   "cell_type": "code",
   "execution_count": 6,
   "metadata": {
    "collapsed": false
   },
   "outputs": [
    {
     "name": "stdout",
     "output_type": "stream",
     "text": [
      "17377 17377\n",
      "334 334\n"
     ]
    }
   ],
   "source": [
    "arrayX = np.array(trainX[0:17377])\n",
    "arrayY = np.array(trainY[0:17377])\n",
    "arrayXm = np.array(trainX_mean[0:17377])\n",
    "\n",
    "X_train, X_test, y_train, y_test = train_test_split(arrayX, arrayY, test_size=0.4, random_state=0)\n",
    "Xm_train, Xm_test, ym_train, ym_test = train_test_split(arrayXm, arrayY, test_size=0.4, random_state=0)\n",
    "\n",
    "print(len(arrayX),len(arrayXm))\n",
    "print(len(arrayX[0]),len(arrayXm[0]))"
   ]
  },
  {
   "cell_type": "code",
   "execution_count": 7,
   "metadata": {
    "collapsed": false
   },
   "outputs": [
    {
     "name": "stdout",
     "output_type": "stream",
     "text": [
      "Classifier | Score on Test NA=0 | Score on Train NA=0 | Score on Test NA=mean | Score on Train NA=mean |\n",
      "--- | --- | --- | --- | --- | \n",
      "Linear SVM|0.756|0.820|0.757|0.819\n",
      "DecisionTree1|0.465|0.511|0.465|0.511\n",
      "RandomForest1|0.429|0.465|0.429|0.465\n",
      "DecisionTree2|0.465|0.511|0.466|0.512\n",
      "Rand Forest2|0.614|0.771|0.615|0.772\n",
      "GaussianNB|0.771|0.795|0.772|0.796\n",
      "Logit|0.765|0.794|0.766|0.795\n",
      "Logit l=2|0.765|0.794|0.766|0.794\n",
      "Logit l=4|0.765|0.795|0.766|0.795\n"
     ]
    }
   ],
   "source": [
    "classifiers = [\n",
    "#    [\"Nearest Neighbors\", KNeighborsClassifier(3)],\n",
    "    [\"Linear SVM\", SVC(kernel='linear', C=0.5)],\n",
    "#    [\"RBF SVM\", SVC(gamma=2, C=1)],\n",
    "    [\"DecisionTree1\", DecisionTreeClassifier(max_depth=5)], \n",
    "    [\"RandomForest1\", RandomForestClassifier(max_depth=5, n_estimators=10, max_features=1)],\n",
    "    [\"DecisionTree2\", DecisionTreeClassifier(criterion='entropy', max_depth=5, min_samples_leaf=20, random_state=0)],\n",
    "    [\"Rand Forest2\", RandomForestClassifier(n_estimators=30, criterion='entropy', max_depth=20, min_samples_leaf=20, \n",
    "                           bootstrap=True, oob_score=False, random_state=0 )],\n",
    "#    [\"Adaboost\", AdaBoostClassifier()],\n",
    "    [\"GaussianNB\", GaussianNB()],\n",
    "    [\"Logit\", LogisticRegression(C=1)], \n",
    "    [\"Logit l=2\", LogisticRegression(C=2)], \n",
    "    [\"Logit l=4\", LogisticRegression(C=4)],\n",
    "#    [\"QDA\", QuadraticDiscriminantAnalysis()]\n",
    "]\n",
    "print(\"Classifier | Score on Test NA=0 | Score on Train NA=0 | Score on Test NA=mean | Score on Train NA=mean |\")\n",
    "print(\"--- | --- | --- | --- | --- | \")\n",
    "\n",
    "results = [] \n",
    "\n",
    "for name, classifier in  classifiers : \n",
    "    clf=classifier\n",
    "    clfm=classifier\n",
    "    clf.fit(X_train, y_train)\n",
    "    clfm.fit(Xm_train, ym_train)\n",
    "    row = [ name, \n",
    "            clf.score(X_test, y_test) ,clf.score(X_train, y_train), #comparing test and training on 4/6 split\n",
    "            clfm.score(Xm_test, ym_test) ,clfm.score(Xm_train, ym_train)\n",
    "         ]\n",
    "    print(name + \"|\" + \"|\".join([\"%.3f\" % x for x in row[1:]]) )\n",
    "    results.append(row)\n",
    "    "
   ]
  },
  {
   "cell_type": "code",
   "execution_count": 8,
   "metadata": {
    "collapsed": false,
    "scrolled": true
   },
   "outputs": [
    {
     "data": {
      "text/html": [
       "<div>\n",
       "<table border=\"1\" class=\"dataframe\">\n",
       "  <thead>\n",
       "    <tr style=\"text-align: right;\">\n",
       "      <th></th>\n",
       "      <th>Classifier</th>\n",
       "      <th>NA=0 Test</th>\n",
       "      <th>Training</th>\n",
       "      <th>NA=mean Test</th>\n",
       "      <th>Training</th>\n",
       "      <th>gains from NA=mean</th>\n",
       "    </tr>\n",
       "  </thead>\n",
       "  <tbody>\n",
       "    <tr>\n",
       "      <th>5</th>\n",
       "      <td>GaussianNB</td>\n",
       "      <td>0.770680</td>\n",
       "      <td>0.795319</td>\n",
       "      <td>0.771831</td>\n",
       "      <td>0.795991</td>\n",
       "      <td>0.001151</td>\n",
       "    </tr>\n",
       "    <tr>\n",
       "      <th>6</th>\n",
       "      <td>Logit</td>\n",
       "      <td>0.765214</td>\n",
       "      <td>0.794264</td>\n",
       "      <td>0.765501</td>\n",
       "      <td>0.794552</td>\n",
       "      <td>0.000288</td>\n",
       "    </tr>\n",
       "    <tr>\n",
       "      <th>7</th>\n",
       "      <td>Logit l=2</td>\n",
       "      <td>0.765070</td>\n",
       "      <td>0.793977</td>\n",
       "      <td>0.765933</td>\n",
       "      <td>0.793785</td>\n",
       "      <td>0.000863</td>\n",
       "    </tr>\n",
       "    <tr>\n",
       "      <th>8</th>\n",
       "      <td>Logit l=4</td>\n",
       "      <td>0.764782</td>\n",
       "      <td>0.794744</td>\n",
       "      <td>0.765501</td>\n",
       "      <td>0.794744</td>\n",
       "      <td>0.000719</td>\n",
       "    </tr>\n",
       "    <tr>\n",
       "      <th>0</th>\n",
       "      <td>Linear SVM</td>\n",
       "      <td>0.755719</td>\n",
       "      <td>0.819682</td>\n",
       "      <td>0.756870</td>\n",
       "      <td>0.819298</td>\n",
       "      <td>0.001151</td>\n",
       "    </tr>\n",
       "    <tr>\n",
       "      <th>4</th>\n",
       "      <td>Rand Forest2</td>\n",
       "      <td>0.613869</td>\n",
       "      <td>0.770669</td>\n",
       "      <td>0.615163</td>\n",
       "      <td>0.772012</td>\n",
       "      <td>0.001295</td>\n",
       "    </tr>\n",
       "    <tr>\n",
       "      <th>1</th>\n",
       "      <td>DecisionTree1</td>\n",
       "      <td>0.465401</td>\n",
       "      <td>0.510838</td>\n",
       "      <td>0.465257</td>\n",
       "      <td>0.511030</td>\n",
       "      <td>-0.000144</td>\n",
       "    </tr>\n",
       "    <tr>\n",
       "      <th>3</th>\n",
       "      <td>DecisionTree2</td>\n",
       "      <td>0.464825</td>\n",
       "      <td>0.511222</td>\n",
       "      <td>0.465688</td>\n",
       "      <td>0.512373</td>\n",
       "      <td>0.000863</td>\n",
       "    </tr>\n",
       "    <tr>\n",
       "      <th>2</th>\n",
       "      <td>RandomForest1</td>\n",
       "      <td>0.428571</td>\n",
       "      <td>0.465087</td>\n",
       "      <td>0.428571</td>\n",
       "      <td>0.464608</td>\n",
       "      <td>0.000000</td>\n",
       "    </tr>\n",
       "  </tbody>\n",
       "</table>\n",
       "</div>"
      ],
      "text/plain": [
       "      Classifier  NA=0 Test  Training  NA=mean Test  Training  \\\n",
       "5     GaussianNB   0.770680  0.795319      0.771831  0.795991   \n",
       "6          Logit   0.765214  0.794264      0.765501  0.794552   \n",
       "7      Logit l=2   0.765070  0.793977      0.765933  0.793785   \n",
       "8      Logit l=4   0.764782  0.794744      0.765501  0.794744   \n",
       "0     Linear SVM   0.755719  0.819682      0.756870  0.819298   \n",
       "4   Rand Forest2   0.613869  0.770669      0.615163  0.772012   \n",
       "1  DecisionTree1   0.465401  0.510838      0.465257  0.511030   \n",
       "3  DecisionTree2   0.464825  0.511222      0.465688  0.512373   \n",
       "2  RandomForest1   0.428571  0.465087      0.428571  0.464608   \n",
       "\n",
       "   gains from NA=mean  \n",
       "5            0.001151  \n",
       "6            0.000288  \n",
       "7            0.000863  \n",
       "8            0.000719  \n",
       "0            0.001151  \n",
       "4            0.001295  \n",
       "1           -0.000144  \n",
       "3            0.000863  \n",
       "2            0.000000  "
      ]
     },
     "execution_count": 8,
     "metadata": {},
     "output_type": "execute_result"
    }
   ],
   "source": [
    "resultsdf = pd.DataFrame(results) \n",
    "difference = resultsdf[3]-resultsdf[1]\n",
    "resultsdf[\"gain from NA=mean\"]=difference\n",
    "resultsdf = resultsdf.sort_values(by=1,ascending=False)\n",
    "resultsdf.columns = [\"Classifier\", \"NA=0 Test\", \"Training\", \"NA=mean Test\", \"Training\", \"gains from NA=mean\"] \n",
    "resultsdf"
   ]
  },
  {
   "cell_type": "markdown",
   "metadata": {},
   "source": [
    "### Assessment of list of models after NA treatment \n",
    "\n",
    "First, there seem to be modest gains from replacing the NAs with means. \n",
    "\n",
    "From this sample run, it looks like for Naive Bayes, Logit, and SVM, we are in **high variance, low bias** state. We should add more data, reduce the feature space using methods like PCA/LDA, and increase lambda. \n",
    "\n",
    "Nearest Neighbors, the Trees, and Adaboost are suffering from **high bias, high variance**. Not only is the model predicting poorly on the test data, it is struggling to classify the training data. Whatever the model is learning is wrong. All of the above improvements should be applied, but we should also try to add more complexity to the models, add high order terms, and allow more high-order features to remaing by reducing the lambda in regularization. \n",
    "\n",
    "\n",
    "### Next Steps\n",
    "\n",
    "* Check that the label counts are balanced. I didn't double check if our outputs are unbalanced - if that's the case, we might wrongly prioritize the most common outcome and create bias. \n",
    "* Reduce dimensions\n",
    "* Try different lambdas and kernels \n",
    "* Rerun the panel of models after each change, and at the end drop the worst half "
   ]
  },
  {
   "cell_type": "code",
   "execution_count": 9,
   "metadata": {
    "collapsed": false
   },
   "outputs": [
    {
     "data": {
      "text/plain": [
       "0\n",
       "1    5666\n",
       "2    3893\n",
       "3    5217\n",
       "4    2601\n",
       "dtype: int64"
      ]
     },
     "execution_count": 9,
     "metadata": {},
     "output_type": "execute_result"
    }
   ],
   "source": [
    "Ydf = pd.DataFrame(arrayY)\n",
    "Ycounts=Ydf.groupby([0]).size()\n",
    "Ycounts"
   ]
  },
  {
   "cell_type": "markdown",
   "metadata": {},
   "source": [
    "### Balancing dataset \n",
    "\n",
    "Indeed the classes are not equal. I'm not sure if 17K is too big for over-sampling or too small for under-sampling, so I think I'd like to try both: to sample with replacement until all classes have 5666 records, or to sample 2601 from all classes. "
   ]
  },
  {
   "cell_type": "code",
   "execution_count": 10,
   "metadata": {
    "collapsed": false
   },
   "outputs": [
    {
     "name": "stdout",
     "output_type": "stream",
     "text": [
      "10404\n",
      "22664\n",
      "(22664, 334) (22664,)\n",
      "(10404, 334) (10404,)\n"
     ]
    }
   ],
   "source": [
    "### join the data to keep X and Y together \n",
    "\n",
    "Ydf = pd.DataFrame(trainY)\n",
    "Ydf.columns = ['label']\n",
    "Xdf = pd.DataFrame(trainX_mean)\n",
    "XYdf = Xdf.join(Ydf)[0:17377]\n",
    "\n",
    "\n",
    "undersize = 2601 \n",
    "underXYdf = pd.concat([\n",
    "    XYdf[XYdf['label']=='1'].sample(undersize),\n",
    "    XYdf[XYdf['label']=='2'].sample(undersize),\n",
    "    XYdf[XYdf['label']=='3'].sample(undersize),\n",
    "    XYdf[XYdf['label']=='4'].sample(undersize)\n",
    "        ])\n",
    "\n",
    "\n",
    "oversize = 5666 \n",
    "overXYdf = pd.concat([\n",
    "    XYdf[XYdf['label']=='1'].sample(oversize, replace=True),\n",
    "    XYdf[XYdf['label']=='2'].sample(oversize, replace=True),\n",
    "    XYdf[XYdf['label']=='3'].sample(oversize, replace=True),\n",
    "    XYdf[XYdf['label']=='4'].sample(oversize, replace=True),\n",
    "        ])\n",
    "\n",
    "\n",
    "overX, overY = overXYdf.ix[:,0:334] , overXYdf['label']\n",
    "\n",
    "underX, underY = underXYdf.ix[:,0:334] , underXYdf['label']\n",
    "\n",
    "print(4*undersize)\n",
    "print(4*oversize)\n",
    "print(overX.shape, overY.shape)\n",
    "print(underX.shape, underY.shape)"
   ]
  },
  {
   "cell_type": "markdown",
   "metadata": {},
   "source": [
    "Now, we have two sets of X and Y variables. Let's run through the classifiers again on these samples\n"
   ]
  },
  {
   "cell_type": "code",
   "execution_count": 11,
   "metadata": {
    "collapsed": false
   },
   "outputs": [
    {
     "name": "stdout",
     "output_type": "stream",
     "text": [
      "(22664, 334) (22664,)\n",
      "(13598, 334) (13598,)\n",
      "(9066, 334) (9066,)\n"
     ]
    }
   ],
   "source": [
    "X1_train, X1_test, y1_train, y1_test = train_test_split(overX, overY, test_size=0.4, random_state=0)\n",
    "X2_train, X2_test, y2_train, y2_test = train_test_split(underX, underY, test_size=0.4, random_state=0)\n",
    "\n",
    "print(overX.shape, overY.shape)\n",
    "print(X1_train.shape, y1_train.shape)\n",
    "print(X1_test.shape, y1_test.shape)"
   ]
  },
  {
   "cell_type": "code",
   "execution_count": 12,
   "metadata": {
    "collapsed": false
   },
   "outputs": [
    {
     "name": "stdout",
     "output_type": "stream",
     "text": [
      "Classifier | Score on Test oversampled data | Score on Train | Score on Test undersampled data | Score on Train |\n",
      "--- | --- | --- | --- | --- | \n",
      "Linear SVM|0.736|0.730|0.668|0.810\n",
      "GaussianNB|0.752|0.751|0.720|0.779\n",
      "Logit|0.729|0.729|0.692|0.777\n",
      "Logit l=2|0.732|0.730|0.691|0.780\n",
      "Logit l=4|0.733|0.731|0.692|0.781\n"
     ]
    }
   ],
   "source": [
    "classifiers = [\n",
    "   # [\"Nearest Neighbors\", KNeighborsClassifier(3)],\n",
    "    [\"Linear SVM\", SVC(kernel='linear', C=0.5)],\n",
    "#    [\"RBF SVM\", SVC(gamma=2, C=1)],\n",
    "   # [\"DecisionTree1\", DecisionTreeClassifier(max_depth=5)], \n",
    "   # [\"RandomForest1\", RandomForestClassifier(max_depth=5, n_estimators=10, max_features=1)],\n",
    "   # [\"DecisionTree2\", DecisionTreeClassifier(criterion='entropy', max_depth=5, min_samples_leaf=20, random_state=0)],\n",
    "#    [\"Rand Forest2\", RandomForestClassifier(n_estimators=30, criterion='entropy', max_depth=20, min_samples_leaf=20, \n",
    "#                           bootstrap=True, oob_score=False, random_state=0 )],\n",
    "   # [\"Adaboost\", AdaBoostClassifier()],\n",
    "    [\"GaussianNB\", GaussianNB()],\n",
    "    [\"Logit\", LogisticRegression(C=1)],\n",
    "    [\"Logit l=2\", LogisticRegression(C=2)], \n",
    "    [\"Logit l=4\", LogisticRegression(C=4)],\n",
    "#    [\"QDA\", QuadraticDiscriminantAnalysis()]\n",
    "]\n",
    "print(\"Classifier | Score on Test oversampled data | Score on Train | Score on Test undersampled data | Score on Train |\")\n",
    "print(\"--- | --- | --- | --- | --- | \")\n",
    "\n",
    "results_balancing = [] \n",
    "\n",
    "for name, classifier in  classifiers : \n",
    "    clf1=classifier\n",
    "    clf2=classifier\n",
    "    clf1.fit(X1_train, y1_train)\n",
    "    clf2.fit(X2_train, y2_train)\n",
    "    row = [ name, \n",
    "            clf1.score(X1_test, y1_test) ,clf1.score(X1_train, y1_train), #comparing test and training on 4/6 split\n",
    "            clf2.score(X2_test, y2_test) ,clf2.score(X2_train, y2_train)\n",
    "         ]\n",
    "    print(name + \"|\" + \"|\".join([\"%.3f\" % x for x in row[1:]]) )\n",
    "    results_balancing.append(row)"
   ]
  },
  {
   "cell_type": "markdown",
   "metadata": {},
   "source": [
    "### Performance with Balanced Classes, over and under sampling "
   ]
  },
  {
   "cell_type": "code",
   "execution_count": 13,
   "metadata": {
    "collapsed": false,
    "scrolled": true
   },
   "outputs": [
    {
     "data": {
      "text/html": [
       "<div>\n",
       "<table border=\"1\" class=\"dataframe\">\n",
       "  <thead>\n",
       "    <tr style=\"text-align: right;\">\n",
       "      <th></th>\n",
       "      <th>Classifier</th>\n",
       "      <th>oversampled Test</th>\n",
       "      <th>Training</th>\n",
       "      <th>undersampled Test</th>\n",
       "      <th>Training</th>\n",
       "    </tr>\n",
       "  </thead>\n",
       "  <tbody>\n",
       "    <tr>\n",
       "      <th>1</th>\n",
       "      <td>GaussianNB</td>\n",
       "      <td>0.751710</td>\n",
       "      <td>0.751360</td>\n",
       "      <td>0.719846</td>\n",
       "      <td>0.778917</td>\n",
       "    </tr>\n",
       "    <tr>\n",
       "      <th>0</th>\n",
       "      <td>Linear SVM</td>\n",
       "      <td>0.736378</td>\n",
       "      <td>0.729666</td>\n",
       "      <td>0.668429</td>\n",
       "      <td>0.810317</td>\n",
       "    </tr>\n",
       "    <tr>\n",
       "      <th>4</th>\n",
       "      <td>Logit l=4</td>\n",
       "      <td>0.732848</td>\n",
       "      <td>0.730916</td>\n",
       "      <td>0.692215</td>\n",
       "      <td>0.780519</td>\n",
       "    </tr>\n",
       "    <tr>\n",
       "      <th>3</th>\n",
       "      <td>Logit l=2</td>\n",
       "      <td>0.731524</td>\n",
       "      <td>0.729887</td>\n",
       "      <td>0.691494</td>\n",
       "      <td>0.779558</td>\n",
       "    </tr>\n",
       "    <tr>\n",
       "      <th>2</th>\n",
       "      <td>Logit</td>\n",
       "      <td>0.729318</td>\n",
       "      <td>0.728931</td>\n",
       "      <td>0.692456</td>\n",
       "      <td>0.777315</td>\n",
       "    </tr>\n",
       "  </tbody>\n",
       "</table>\n",
       "</div>"
      ],
      "text/plain": [
       "   Classifier  oversampled Test  Training  undersampled Test  Training\n",
       "1  GaussianNB          0.751710  0.751360           0.719846  0.778917\n",
       "0  Linear SVM          0.736378  0.729666           0.668429  0.810317\n",
       "4   Logit l=4          0.732848  0.730916           0.692215  0.780519\n",
       "3   Logit l=2          0.731524  0.729887           0.691494  0.779558\n",
       "2       Logit          0.729318  0.728931           0.692456  0.777315"
      ]
     },
     "execution_count": 13,
     "metadata": {},
     "output_type": "execute_result"
    }
   ],
   "source": [
    "resultsdf = pd.DataFrame(results_balancing) \n",
    "resultsdf = resultsdf.sort_values(by=1,ascending=False)\n",
    "resultsdf.columns = [\"Classifier\", \"oversampled Test\", \"Training\", \"undersampled Test\", \"Training\"] \n",
    "resultsdf"
   ]
  },
  {
   "cell_type": "markdown",
   "metadata": {},
   "source": [
    "Across the board, oversampling performed better. However, when compared to the original dataset using NA substitution techniques, the best 3 models were those using the original dataset. \n",
    "\n",
    "\n",
    "### Performance without balancing classes \n",
    "\n",
    "Classifier | Score on Test NA=0 | Score on Train NA=0 | Score on Test NA=mean | Score on Train NA=mean |\n",
    "--- | --- | --- | --- | --- | \n",
    "GaussianNB|0.771|0.795|0.772|0.796\n",
    "Logit|0.765|0.794|0.766|0.795\n",
    "Linear SVM|0.756|0.820|0.757|0.819\n",
    "\n",
    "\n",
    "I think the bias is high enough on this data that more data is not helpful. "
   ]
  },
  {
   "cell_type": "markdown",
   "metadata": {},
   "source": [
    "At this point, I think we will use the data with NA=feature means and the original obervations. \n",
    "\n",
    "Now, because of the high bias, I would like to revisit the features. 334 is a lot of features, and many may be correlated. \n",
    "\n",
    "\n",
    "### Feature reduction and transformation\n",
    "\n",
    "Now, let's continue on the list of things to try. I would like to try to reduce the features using \n",
    "\n",
    "* Random forest to find the most significant existing features \n",
    "* PCA to transform the features \n",
    "* LDA to find eigenvectors to separate the classes "
   ]
  },
  {
   "cell_type": "code",
   "execution_count": 14,
   "metadata": {
    "collapsed": false
   },
   "outputs": [
    {
     "name": "stdout",
     "output_type": "stream",
     "text": [
      "DT accuracy on test: 0.465688\n",
      "RF accuracy on test: 0.574450\n",
      "DT10 accuracy on test: 0.454899\n",
      "DT10 accuracy on test: 0.613149\n"
     ]
    }
   ],
   "source": [
    "arrayY = np.array(trainY[0:17377])\n",
    "arrayX = np.array(trainX_mean[0:17377])\n",
    "\n",
    "X_train, X_test, y_train, y_test = train_test_split(arrayXm, arrayY, test_size=0.4, random_state=0)\n",
    "\n",
    "\n",
    "names = [\"DT\", \"RF\", \"DT10\", \"DT10\"]\n",
    "feature_importances = { \"DT\": [] , \"RF\": [] , \"DT10\": [] , \"RF10\": []}\n",
    "important_indexes = { \"DT\": [] , \"RF\": [], \"DT10\": [] , \"RF10\": [] }\n",
    "\n",
    "classifiers = [\n",
    "    DecisionTreeClassifier(criterion='entropy', max_depth=5,\n",
    "                           min_samples_split=2, min_samples_leaf=20, \n",
    "                           max_features=None,\n",
    "                           random_state=0, \n",
    "                           ),\n",
    "    RandomForestClassifier(n_estimators=100, criterion='entropy',\n",
    "                           max_depth=5, min_samples_split=2, \n",
    "                           min_samples_leaf=20, \n",
    "                           max_features='auto',\n",
    "                           bootstrap=True, oob_score=False, \n",
    "                           random_state=0, \n",
    "                           ),\n",
    "    DecisionTreeClassifier(criterion='entropy', max_depth=10,\n",
    "                           min_samples_split=2, min_samples_leaf=20, \n",
    "                           max_features=None,\n",
    "                           random_state=0, \n",
    "                           ),\n",
    "    RandomForestClassifier(n_estimators=100, criterion='entropy',\n",
    "                           max_depth=10, min_samples_split=2, \n",
    "                           min_samples_leaf=20, \n",
    "                           max_features='auto',\n",
    "                           bootstrap=True, oob_score=False, \n",
    "                           random_state=0, \n",
    "                           )\n",
    "]\n",
    "\n",
    "\n",
    "for name, classifier in zip(names, classifiers): \n",
    "    clf=classifier\n",
    "    clf.fit(X_train, y_train)\n",
    "    print(\"%s accuracy on test: %f\" % (name, clf.score(X_test, y_test) ))\n",
    "    feature_importances[name]=clf.feature_importances_\n",
    "\n",
    "for name, importances in feature_importances.items(): \n",
    "    features = list(enumerate(importances))\n",
    "    important_indexes[name] = [i for i, v in features if v > 0]\n"
   ]
  },
  {
   "cell_type": "code",
   "execution_count": 15,
   "metadata": {
    "collapsed": false
   },
   "outputs": [
    {
     "name": "stdout",
     "output_type": "stream",
     "text": [
      "There are 23 and 288 important features according to \n",
      "    decision tree and random forest, respectively. It is expected \n",
      "    that random forest will have many more important features, since \n",
      "    it is an ensemble method. \n",
      "    \n"
     ]
    }
   ],
   "source": [
    "  \n",
    "print(\"\"\"There are %d and %d important features according to \n",
    "      decision tree and random forest, respectively. It is expected \n",
    "      that random forest will have many more important features, since \n",
    "      it is an ensemble method. \n",
    "      \"\"\" % (len(important_indexes['DT']), len(important_indexes['RF'])))\n",
    "dtX=arrayX[:,important_indexes['DT']]\n",
    "rfX=arrayX[:,important_indexes['RF']]"
   ]
  },
  {
   "cell_type": "code",
   "execution_count": 16,
   "metadata": {
    "collapsed": false,
    "scrolled": true
   },
   "outputs": [
    {
     "name": "stdout",
     "output_type": "stream",
     "text": [
      "(10426, 23) (10426,)\n",
      "(6951, 23) (6951,)\n",
      "(10426, 288) (10426,)\n",
      "(6951, 288) (6951,)\n"
     ]
    }
   ],
   "source": [
    "X1_train, X1_test, y1_train, y1_test = train_test_split(dtX, arrayY, test_size=0.4, random_state=0)\n",
    "X2_train, X2_test, y2_train, y2_test = train_test_split(rfX, arrayY, test_size=0.4, random_state=0)\n",
    "\n",
    "print(X1_train.shape, y1_train.shape)\n",
    "print(X1_test.shape, y1_test.shape)\n",
    "\n",
    "print(X2_train.shape, y2_train.shape)\n",
    "print(X2_test.shape, y2_test.shape)\n"
   ]
  },
  {
   "cell_type": "code",
   "execution_count": 17,
   "metadata": {
    "collapsed": false
   },
   "outputs": [
    {
     "name": "stdout",
     "output_type": "stream",
     "text": [
      "Classifier using DT important features | Score on Test | Score on Train |\n",
      "--- | --- | --- | \n",
      "Nearest Neighbors|0.502|0.702\n",
      "Linear SVM|0.600|0.608\n",
      "RBF SVM|0.345|1.000\n",
      "DecisionTree1|0.472|0.510\n",
      "RandomForest1|0.520|0.548\n",
      "DecisionTree2|0.466|0.512\n",
      "Rand Forest2|0.568|0.676\n",
      "Adaboost|0.571|0.594\n",
      "GaussianNB|0.605|0.611\n",
      "Logit|0.600|0.606\n",
      "Logit l=2|0.600|0.606\n",
      "Logit l=4|0.600|0.606\n",
      "QDA|0.604|0.637\n",
      "Classifier using RF important features | Score on Test | Score on Train |\n",
      "--- | --- | --- | \n",
      "Nearest Neighbors|0.604|0.749\n",
      "Linear SVM|0.751|0.811\n",
      "RBF SVM|0.329|1.000\n",
      "DecisionTree1|0.465|0.511\n",
      "RandomForest1|0.468|0.501\n",
      "DecisionTree2|0.466|0.512\n",
      "Rand Forest2|0.614|0.779\n",
      "Adaboost|0.628|0.653\n",
      "GaussianNB|0.766|0.791\n",
      "Logit|0.761|0.791\n",
      "Logit l=2|0.763|0.791\n",
      "Logit l=4|0.763|0.791\n",
      "QDA|0.693|0.999\n"
     ]
    }
   ],
   "source": [
    "classifiers = [\n",
    "    [\"Nearest Neighbors\", KNeighborsClassifier(3)],\n",
    "    [\"Linear SVM\", SVC(kernel='linear', C=0.5)],\n",
    "    [\"RBF SVM\", SVC(gamma=2, C=1)],\n",
    "    [\"DecisionTree1\", DecisionTreeClassifier(max_depth=5)], \n",
    "    [\"RandomForest1\", RandomForestClassifier(max_depth=5, n_estimators=10, max_features=1)],\n",
    "    [\"DecisionTree2\", DecisionTreeClassifier(criterion='entropy', max_depth=5, min_samples_leaf=20, random_state=0)],\n",
    "    [\"Rand Forest2\", RandomForestClassifier(n_estimators=30, criterion='entropy', max_depth=20, min_samples_leaf=20, \n",
    "                           bootstrap=True, oob_score=False, random_state=0 )],\n",
    "    [\"Adaboost\", AdaBoostClassifier()],\n",
    "    [\"GaussianNB\", GaussianNB()],\n",
    "    [\"Logit\", LogisticRegression(C=1)],\n",
    "    [\"Logit l=2\", LogisticRegression(C=2)], \n",
    "    [\"Logit l=4\", LogisticRegression(C=4)],\n",
    "    [\"QDA\", QuadraticDiscriminantAnalysis()]\n",
    "]\n",
    "print(\"Classifier using DT important features | Score on Test | Score on Train |\")\n",
    "print(\"--- | --- | --- | \")\n",
    "\n",
    "results_ensemble_features = [] \n",
    "\n",
    "for name, classifier in  classifiers : \n",
    "    clf1=classifier\n",
    "    clf1.fit(X1_train, y1_train)\n",
    "    row = [ name, \n",
    "            clf1.score(X1_test, y1_test) ,clf1.score(X1_train, y1_train), #comparing test and training on 4/6 split\n",
    "         ]\n",
    "    print(name + \"|\" + \"|\".join([\"%.3f\" % x for x in row[1:]]) )\n",
    "    results_ensemble_features.append(row)\n",
    "\n",
    "print(\"Classifier using RF important features | Score on Test | Score on Train |\")\n",
    "print(\"--- | --- | --- | \")\n",
    "for name, classifier in  classifiers : \n",
    "    clf2=classifier\n",
    "    clf2.fit(X2_train, y2_train)\n",
    "    row = [ name, \n",
    "            clf2.score(X2_test, y2_test) ,clf2.score(X2_train, y2_train)\n",
    "         ]\n",
    "    print(name + \"|\" + \"|\".join([\"%.3f\" % x for x in row[1:]]) )\n",
    "    results_ensemble_features.append(row)"
   ]
  },
  {
   "cell_type": "markdown",
   "metadata": {},
   "source": [
    "Using a decision tree or Random Forest cuts too many features out, and using Random Forest keeps too many features to be much different. I tested deeper trees, but then the accuracy of the models on test data stops increasing at around 5 nodes deep. Deeper trees become worse at predicting test data results. \n",
    "\n",
    "\n",
    "### Performance of classifiers using features picked by Decision Trees\n",
    "Classifier | Score on Test | Score on Train |\n",
    "--- | --- | --- | \n",
    "Linear SVM|0.600|0.608\n",
    "GaussianNB|0.605|0.611\n",
    "Logit|0.600|0.606\n",
    "Logit l=2|0.600|0.606\n",
    "Logit l=4|0.600|0.606\n",
    "\n",
    "### Performance of classifiers using features picked by Random Forest\n",
    "\n",
    "Classifier | Score on Test | Score on Train |\n",
    "--- | --- | --- | \n",
    "Linear SVM|0.751|0.811\n",
    "GaussianNB|0.766|0.791\n",
    "Logit|0.761|0.791\n",
    "Logit l=2|0.763|0.791\n",
    "Logit l=4|0.763|0.791\n",
    "\n",
    "\n",
    "### Performance without balancing classes, NA=mean\n",
    "\n",
    "Classifier | Score on Test NA=0 | Score on Train NA=0 | Score on Test NA=mean | Score on Train NA=mean |\n",
    "--- | --- | --- | --- | --- | \n",
    "GaussianNB|0.771|0.795|0.772|0.796\n",
    "Logit|0.765|0.794|0.766|0.795\n",
    "Linear SVM|0.756|0.820|0.757|0.819\n",
    "\n",
    "\n",
    "It looks like picking features using trees is not a good idea. Let's move on to PCA and LDA. "
   ]
  },
  {
   "cell_type": "code",
   "execution_count": 18,
   "metadata": {
    "collapsed": false
   },
   "outputs": [
    {
     "name": "stdout",
     "output_type": "stream",
     "text": [
      "6951 10426 20 20\n",
      "6951 10426 20 20\n",
      "[  4.21308845e+00   4.79219246e+00  -2.26325981e+00   8.28318268e-01\n",
      "   8.92208098e-01   1.34884712e+00  -1.75891244e-03  -1.14202728e-01\n",
      "  -2.20232469e-01   9.88252444e-02   7.20471279e-01   7.58851226e-01\n",
      "   5.67621488e-01  -5.92280815e-01  -6.35702084e-01  -1.29893322e+00\n",
      "   1.43086668e+00   3.44083234e-01   7.26025664e-01  -2.70650218e-01] [ 3.22636939  4.20410693 -3.55694379  1.01386795  0.34062225 -0.36215508\n",
      " -0.48034796 -0.53504089 -0.23734542 -0.78926685 -0.10574925  1.64924177\n",
      "  0.21706767  0.30219261 -0.13798681 -0.36676276  1.40653622 -0.72158562\n",
      "  0.02555771 -0.9694502 ] [ 0.60479862  1.16049024 -0.58440881  1.19676622  0.51890516 -0.32708827\n",
      "  0.64766997 -0.56309105 -0.59779243  0.26294101 -0.5067154   0.12865398\n",
      "  0.10615253  0.45754876 -0.28168848 -0.46926418  0.34609843  0.95773804\n",
      " -0.33887213 -0.86136628] [-0.66165597 -0.64375387 -1.0786576   0.35763398  1.57765461  0.5296846\n",
      " -0.29615967  0.38990596 -0.01261613 -0.40418159  0.39614557 -0.2031185\n",
      "  0.59438772 -0.04798868  0.37915492 -0.05050401 -0.61068352  0.5718084\n",
      " -0.74739212 -0.12377883]\n"
     ]
    }
   ],
   "source": [
    "arrayY = np.array(trainY[0:17377])\n",
    "arrayXm = np.array(trainX_mean[0:17377])\n",
    "\n",
    "X_train, X_test, y_train, y_test = train_test_split(arrayXm, arrayY, test_size=0.4, random_state=0)\n",
    "\n",
    "lda = LinearDiscriminantAnalysis(n_components=20, solver='eigen', shrinkage='auto')\n",
    "lda_fit = lda.fit(X_train, y_train).transform(X_train)\n",
    "X_train_new = lda_fit\n",
    "X_test_new = lda.transform(X_test)\n",
    "\n",
    "X1_train = X_train_new\n",
    "X1_test = X_test_new \n",
    "\n",
    "print(len(X1_test),len( X1_train), len(X1_test[0]),len( X1_train[0]))\n",
    "\n",
    "\n",
    "arrayY = np.array(trainY[0:17377])\n",
    "arrayXm = np.array(trainX_mean[0:17377])\n",
    "\n",
    "X_train, X_test, y_train, y_test = train_test_split(arrayXm, arrayY, test_size=0.4, random_state=0)\n",
    "\n",
    "pca = PCA(n_components=20)\n",
    "pca_fit = pca.fit(X_train, y_train).transform(X_train)\n",
    "X_train_new = pca_fit\n",
    "X_test_new = pca.transform(X_test)\n",
    "\n",
    "X2_train = X_train_new\n",
    "X2_test = X_test_new\n",
    "\n",
    "\n",
    "### Print a sample of transformed features \n",
    "print(len(X2_test),len( X2_train), len(X2_test[0]),len( X2_train[0]))\n",
    "print(X1_test[0],X1_train[0],X2_test[0],X2_train[0])"
   ]
  },
  {
   "cell_type": "code",
   "execution_count": 19,
   "metadata": {
    "collapsed": false
   },
   "outputs": [
    {
     "name": "stdout",
     "output_type": "stream",
     "text": [
      "Classifier using DT important features | Score on Test | Score on Train |\n",
      "--- | --- | --- | \n",
      "Nearest Neighbors LDA |0.713|0.832\n",
      "Linear SVM LDA |0.768|0.782\n",
      "RBF SVM LDA |0.334|1.000\n",
      "DecisionTree1 LDA |0.734|0.757\n",
      "RandomForest1 LDA |0.676|0.705\n",
      "DecisionTree2 LDA |0.742|0.762\n",
      "Rand Forest2 LDA |0.763|0.818\n",
      "Adaboost LDA |0.736|0.755\n",
      "GaussianNB LDA |0.773|0.788\n",
      "Logit LDA |0.761|0.774\n",
      "Logit l=2 LDA |0.761|0.774\n",
      "Logit l=4 LDA |0.761|0.775\n",
      "QDA LDA |0.787|0.811\n",
      "Nearest Neighbors PCA ]|0.726|0.844\n",
      "Linear SVM PCA ]|0.752|0.761\n",
      "RBF SVM PCA ]|0.333|1.000\n",
      "DecisionTree1 PCA ]|0.724|0.734\n",
      "RandomForest1 PCA ]|0.629|0.649\n",
      "DecisionTree2 PCA ]|0.719|0.720\n",
      "Rand Forest2 PCA ]|0.758|0.814\n",
      "Adaboost PCA ]|0.739|0.745\n",
      "GaussianNB PCA ]|0.764|0.765\n",
      "Logit PCA ]|0.749|0.752\n",
      "Logit l=2 PCA ]|0.749|0.752\n",
      "Logit l=4 PCA ]|0.749|0.752\n",
      "QDA PCA ]|0.786|0.800\n"
     ]
    }
   ],
   "source": [
    "classifiers = [\n",
    "    [\"Nearest Neighbors\", KNeighborsClassifier(3)],\n",
    "    [\"Linear SVM\", SVC(kernel='linear', C=0.5)],\n",
    "    [\"RBF SVM\", SVC(gamma=2, C=1)],\n",
    "    [\"DecisionTree1\", DecisionTreeClassifier(max_depth=5)], \n",
    "    [\"RandomForest1\", RandomForestClassifier(max_depth=5, n_estimators=10, max_features=1)],\n",
    "    [\"DecisionTree2\", DecisionTreeClassifier(criterion='entropy', max_depth=5, min_samples_leaf=20, random_state=0)],\n",
    "    [\"Rand Forest2\", RandomForestClassifier(n_estimators=30, criterion='entropy', max_depth=20, min_samples_leaf=20, \n",
    "                           bootstrap=True, oob_score=False, random_state=0 )],\n",
    "    [\"Adaboost\", AdaBoostClassifier()],\n",
    "    [\"GaussianNB\", GaussianNB()],\n",
    "    [\"Logit\", LogisticRegression(C=1)],\n",
    "    [\"Logit l=2\", LogisticRegression(C=2)], \n",
    "    [\"Logit l=4\", LogisticRegression(C=4)],\n",
    "    [\"QDA\", QuadraticDiscriminantAnalysis()]\n",
    "]\n",
    "print(\"Classifier using DT important features | Score on Test | Score on Train |\")\n",
    "print(\"--- | --- | --- | \")\n",
    "\n",
    "results_transformed = [] \n",
    "\n",
    "for name, classifier in  classifiers : \n",
    "    clf1=classifier\n",
    "    clf1.fit(X1_train, y1_train)\n",
    "    row = [ name+\" LDA\", \n",
    "            clf1.score(X1_test, y1_test) ,clf1.score(X1_train, y1_train), #comparing test and training on 4/6 split\n",
    "         ]\n",
    "    print(name + \" LDA |\" + \"|\".join([\"%.3f\" % x for x in row[1:]]) )\n",
    "    results_transformed.append(row)\n",
    "    \n",
    "for name, classifier in  classifiers : \n",
    "    clf2=classifier\n",
    "    clf2.fit(X2_train, y2_train)\n",
    "    row = [ name +\" PCA\", \n",
    "            clf2.score(X2_test, y2_test) ,clf2.score(X2_train, y2_train), #comparing test and training on 4/6 split\n",
    "         ]\n",
    "    print(name + \" PCA ]|\" + \"|\".join([\"%.3f\" % x for x in row[1:]]) )\n",
    "    results_transformed.append(row)\n"
   ]
  },
  {
   "cell_type": "markdown",
   "metadata": {},
   "source": [
    "### Comparing LDA and PCA transformed inputs to previous best models \n",
    "\n",
    "\n",
    "Here are the results from the previous best models. "
   ]
  },
  {
   "cell_type": "code",
   "execution_count": 20,
   "metadata": {
    "collapsed": false
   },
   "outputs": [
    {
     "data": {
      "text/html": [
       "<div>\n",
       "<table border=\"1\" class=\"dataframe\">\n",
       "  <thead>\n",
       "    <tr style=\"text-align: right;\">\n",
       "      <th></th>\n",
       "      <th>Classifier</th>\n",
       "      <th>NA=0 Test</th>\n",
       "      <th>Training</th>\n",
       "      <th>NA=mean Test</th>\n",
       "      <th>Training</th>\n",
       "      <th>gains from NA=mean</th>\n",
       "    </tr>\n",
       "  </thead>\n",
       "  <tbody>\n",
       "    <tr>\n",
       "      <th>5</th>\n",
       "      <td>GaussianNB</td>\n",
       "      <td>0.770680</td>\n",
       "      <td>0.795319</td>\n",
       "      <td>0.771831</td>\n",
       "      <td>0.795991</td>\n",
       "      <td>0.001151</td>\n",
       "    </tr>\n",
       "    <tr>\n",
       "      <th>6</th>\n",
       "      <td>Logit</td>\n",
       "      <td>0.765214</td>\n",
       "      <td>0.794264</td>\n",
       "      <td>0.765501</td>\n",
       "      <td>0.794552</td>\n",
       "      <td>0.000288</td>\n",
       "    </tr>\n",
       "    <tr>\n",
       "      <th>7</th>\n",
       "      <td>Logit l=2</td>\n",
       "      <td>0.765070</td>\n",
       "      <td>0.793977</td>\n",
       "      <td>0.765933</td>\n",
       "      <td>0.793785</td>\n",
       "      <td>0.000863</td>\n",
       "    </tr>\n",
       "    <tr>\n",
       "      <th>8</th>\n",
       "      <td>Logit l=4</td>\n",
       "      <td>0.764782</td>\n",
       "      <td>0.794744</td>\n",
       "      <td>0.765501</td>\n",
       "      <td>0.794744</td>\n",
       "      <td>0.000719</td>\n",
       "    </tr>\n",
       "    <tr>\n",
       "      <th>0</th>\n",
       "      <td>Linear SVM</td>\n",
       "      <td>0.755719</td>\n",
       "      <td>0.819682</td>\n",
       "      <td>0.756870</td>\n",
       "      <td>0.819298</td>\n",
       "      <td>0.001151</td>\n",
       "    </tr>\n",
       "    <tr>\n",
       "      <th>4</th>\n",
       "      <td>Rand Forest2</td>\n",
       "      <td>0.613869</td>\n",
       "      <td>0.770669</td>\n",
       "      <td>0.615163</td>\n",
       "      <td>0.772012</td>\n",
       "      <td>0.001295</td>\n",
       "    </tr>\n",
       "    <tr>\n",
       "      <th>1</th>\n",
       "      <td>DecisionTree1</td>\n",
       "      <td>0.465401</td>\n",
       "      <td>0.510838</td>\n",
       "      <td>0.465257</td>\n",
       "      <td>0.511030</td>\n",
       "      <td>-0.000144</td>\n",
       "    </tr>\n",
       "    <tr>\n",
       "      <th>3</th>\n",
       "      <td>DecisionTree2</td>\n",
       "      <td>0.464825</td>\n",
       "      <td>0.511222</td>\n",
       "      <td>0.465688</td>\n",
       "      <td>0.512373</td>\n",
       "      <td>0.000863</td>\n",
       "    </tr>\n",
       "    <tr>\n",
       "      <th>2</th>\n",
       "      <td>RandomForest1</td>\n",
       "      <td>0.428571</td>\n",
       "      <td>0.465087</td>\n",
       "      <td>0.428571</td>\n",
       "      <td>0.464608</td>\n",
       "      <td>0.000000</td>\n",
       "    </tr>\n",
       "  </tbody>\n",
       "</table>\n",
       "</div>"
      ],
      "text/plain": [
       "      Classifier  NA=0 Test  Training  NA=mean Test  Training  \\\n",
       "5     GaussianNB   0.770680  0.795319      0.771831  0.795991   \n",
       "6          Logit   0.765214  0.794264      0.765501  0.794552   \n",
       "7      Logit l=2   0.765070  0.793977      0.765933  0.793785   \n",
       "8      Logit l=4   0.764782  0.794744      0.765501  0.794744   \n",
       "0     Linear SVM   0.755719  0.819682      0.756870  0.819298   \n",
       "4   Rand Forest2   0.613869  0.770669      0.615163  0.772012   \n",
       "1  DecisionTree1   0.465401  0.510838      0.465257  0.511030   \n",
       "3  DecisionTree2   0.464825  0.511222      0.465688  0.512373   \n",
       "2  RandomForest1   0.428571  0.465087      0.428571  0.464608   \n",
       "\n",
       "   gains from NA=mean  \n",
       "5            0.001151  \n",
       "6            0.000288  \n",
       "7            0.000863  \n",
       "8            0.000719  \n",
       "0            0.001151  \n",
       "4            0.001295  \n",
       "1           -0.000144  \n",
       "3            0.000863  \n",
       "2            0.000000  "
      ]
     },
     "execution_count": 20,
     "metadata": {},
     "output_type": "execute_result"
    }
   ],
   "source": [
    "resultsdf = pd.DataFrame(results) \n",
    "difference = resultsdf[3]-resultsdf[1]\n",
    "resultsdf[\"gain from NA=mean\"]=difference\n",
    "resultsdf = resultsdf.sort_values(by=1,ascending=False)\n",
    "resultsdf.columns = [\"Classifier\", \"NA=0 Test\", \"Training\", \"NA=mean Test\", \"Training\", \"gains from NA=mean\"] \n",
    "resultsdf"
   ]
  },
  {
   "cell_type": "markdown",
   "metadata": {},
   "source": [
    "\n",
    "The previous best performing model, a Gaussian Naive Bayes using NA=feature means, had 0.771831 accuracy.\n",
    "\n",
    "\n",
    "### Results of models using transformed features \n",
    "\n",
    "The top three performers using transformed inputs beat the previous best model.\n",
    "\n",
    "These top three performers include Quadratic Discriminant Analysis using LDA and PCA, and Gaussian Naive Bayes using LDA. \n",
    "\n",
    "Furthermore, almost all models except for RBF SVM performed better using transformed inputs. Furthermore, a version of all classifiers except for RBF SVM crossed the 71% accuracy point. Previously, Decision Tree and Random Forest were blow that threshold. Now, a pruned version of the random forest is at 76% accuracy, verses 61% accuracy before. "
   ]
  },
  {
   "cell_type": "code",
   "execution_count": 21,
   "metadata": {
    "collapsed": false
   },
   "outputs": [
    {
     "data": {
      "text/html": [
       "<div>\n",
       "<table border=\"1\" class=\"dataframe\">\n",
       "  <thead>\n",
       "    <tr style=\"text-align: right;\">\n",
       "      <th></th>\n",
       "      <th>Classifier</th>\n",
       "      <th>On Test</th>\n",
       "      <th>On Training</th>\n",
       "    </tr>\n",
       "  </thead>\n",
       "  <tbody>\n",
       "    <tr>\n",
       "      <th>12</th>\n",
       "      <td>QDA LDA</td>\n",
       "      <td>0.787225</td>\n",
       "      <td>0.811241</td>\n",
       "    </tr>\n",
       "    <tr>\n",
       "      <th>25</th>\n",
       "      <td>QDA PCA</td>\n",
       "      <td>0.786218</td>\n",
       "      <td>0.799827</td>\n",
       "    </tr>\n",
       "    <tr>\n",
       "      <th>8</th>\n",
       "      <td>GaussianNB LDA</td>\n",
       "      <td>0.773126</td>\n",
       "      <td>0.787742</td>\n",
       "    </tr>\n",
       "    <tr>\n",
       "      <th>1</th>\n",
       "      <td>Linear SVM LDA</td>\n",
       "      <td>0.768235</td>\n",
       "      <td>0.781508</td>\n",
       "    </tr>\n",
       "    <tr>\n",
       "      <th>21</th>\n",
       "      <td>GaussianNB PCA</td>\n",
       "      <td>0.764063</td>\n",
       "      <td>0.764627</td>\n",
       "    </tr>\n",
       "    <tr>\n",
       "      <th>6</th>\n",
       "      <td>Rand Forest2 LDA</td>\n",
       "      <td>0.763487</td>\n",
       "      <td>0.818051</td>\n",
       "    </tr>\n",
       "    <tr>\n",
       "      <th>11</th>\n",
       "      <td>Logit l=4 LDA</td>\n",
       "      <td>0.761185</td>\n",
       "      <td>0.774698</td>\n",
       "    </tr>\n",
       "    <tr>\n",
       "      <th>9</th>\n",
       "      <td>Logit LDA</td>\n",
       "      <td>0.761185</td>\n",
       "      <td>0.773835</td>\n",
       "    </tr>\n",
       "    <tr>\n",
       "      <th>10</th>\n",
       "      <td>Logit l=2 LDA</td>\n",
       "      <td>0.760610</td>\n",
       "      <td>0.773931</td>\n",
       "    </tr>\n",
       "    <tr>\n",
       "      <th>19</th>\n",
       "      <td>Rand Forest2 PCA</td>\n",
       "      <td>0.758164</td>\n",
       "      <td>0.813735</td>\n",
       "    </tr>\n",
       "    <tr>\n",
       "      <th>14</th>\n",
       "      <td>Linear SVM PCA</td>\n",
       "      <td>0.752266</td>\n",
       "      <td>0.760599</td>\n",
       "    </tr>\n",
       "    <tr>\n",
       "      <th>23</th>\n",
       "      <td>Logit l=2 PCA</td>\n",
       "      <td>0.749245</td>\n",
       "      <td>0.751678</td>\n",
       "    </tr>\n",
       "    <tr>\n",
       "      <th>22</th>\n",
       "      <td>Logit PCA</td>\n",
       "      <td>0.749245</td>\n",
       "      <td>0.751583</td>\n",
       "    </tr>\n",
       "    <tr>\n",
       "      <th>24</th>\n",
       "      <td>Logit l=4 PCA</td>\n",
       "      <td>0.749101</td>\n",
       "      <td>0.751583</td>\n",
       "    </tr>\n",
       "    <tr>\n",
       "      <th>5</th>\n",
       "      <td>DecisionTree2 LDA</td>\n",
       "      <td>0.741908</td>\n",
       "      <td>0.761749</td>\n",
       "    </tr>\n",
       "    <tr>\n",
       "      <th>20</th>\n",
       "      <td>Adaboost PCA</td>\n",
       "      <td>0.739174</td>\n",
       "      <td>0.745252</td>\n",
       "    </tr>\n",
       "    <tr>\n",
       "      <th>7</th>\n",
       "      <td>Adaboost LDA</td>\n",
       "      <td>0.736153</td>\n",
       "      <td>0.754556</td>\n",
       "    </tr>\n",
       "    <tr>\n",
       "      <th>3</th>\n",
       "      <td>DecisionTree1 LDA</td>\n",
       "      <td>0.733707</td>\n",
       "      <td>0.756954</td>\n",
       "    </tr>\n",
       "    <tr>\n",
       "      <th>13</th>\n",
       "      <td>Nearest Neighbors PCA</td>\n",
       "      <td>0.726370</td>\n",
       "      <td>0.843756</td>\n",
       "    </tr>\n",
       "    <tr>\n",
       "      <th>16</th>\n",
       "      <td>DecisionTree1 PCA</td>\n",
       "      <td>0.723637</td>\n",
       "      <td>0.733934</td>\n",
       "    </tr>\n",
       "    <tr>\n",
       "      <th>18</th>\n",
       "      <td>DecisionTree2 PCA</td>\n",
       "      <td>0.718889</td>\n",
       "      <td>0.719643</td>\n",
       "    </tr>\n",
       "    <tr>\n",
       "      <th>0</th>\n",
       "      <td>Nearest Neighbors LDA</td>\n",
       "      <td>0.712703</td>\n",
       "      <td>0.831959</td>\n",
       "    </tr>\n",
       "    <tr>\n",
       "      <th>4</th>\n",
       "      <td>RandomForest1 LDA</td>\n",
       "      <td>0.675586</td>\n",
       "      <td>0.705256</td>\n",
       "    </tr>\n",
       "    <tr>\n",
       "      <th>17</th>\n",
       "      <td>RandomForest1 PCA</td>\n",
       "      <td>0.629406</td>\n",
       "      <td>0.649146</td>\n",
       "    </tr>\n",
       "    <tr>\n",
       "      <th>2</th>\n",
       "      <td>RBF SVM LDA</td>\n",
       "      <td>0.334340</td>\n",
       "      <td>1.000000</td>\n",
       "    </tr>\n",
       "    <tr>\n",
       "      <th>15</th>\n",
       "      <td>RBF SVM PCA</td>\n",
       "      <td>0.333333</td>\n",
       "      <td>1.000000</td>\n",
       "    </tr>\n",
       "  </tbody>\n",
       "</table>\n",
       "</div>"
      ],
      "text/plain": [
       "               Classifier   On Test  On Training\n",
       "12                QDA LDA  0.787225     0.811241\n",
       "25                QDA PCA  0.786218     0.799827\n",
       "8          GaussianNB LDA  0.773126     0.787742\n",
       "1          Linear SVM LDA  0.768235     0.781508\n",
       "21         GaussianNB PCA  0.764063     0.764627\n",
       "6        Rand Forest2 LDA  0.763487     0.818051\n",
       "11          Logit l=4 LDA  0.761185     0.774698\n",
       "9               Logit LDA  0.761185     0.773835\n",
       "10          Logit l=2 LDA  0.760610     0.773931\n",
       "19       Rand Forest2 PCA  0.758164     0.813735\n",
       "14         Linear SVM PCA  0.752266     0.760599\n",
       "23          Logit l=2 PCA  0.749245     0.751678\n",
       "22              Logit PCA  0.749245     0.751583\n",
       "24          Logit l=4 PCA  0.749101     0.751583\n",
       "5       DecisionTree2 LDA  0.741908     0.761749\n",
       "20           Adaboost PCA  0.739174     0.745252\n",
       "7            Adaboost LDA  0.736153     0.754556\n",
       "3       DecisionTree1 LDA  0.733707     0.756954\n",
       "13  Nearest Neighbors PCA  0.726370     0.843756\n",
       "16      DecisionTree1 PCA  0.723637     0.733934\n",
       "18      DecisionTree2 PCA  0.718889     0.719643\n",
       "0   Nearest Neighbors LDA  0.712703     0.831959\n",
       "4       RandomForest1 LDA  0.675586     0.705256\n",
       "17      RandomForest1 PCA  0.629406     0.649146\n",
       "2             RBF SVM LDA  0.334340     1.000000\n",
       "15            RBF SVM PCA  0.333333     1.000000"
      ]
     },
     "execution_count": 21,
     "metadata": {},
     "output_type": "execute_result"
    }
   ],
   "source": [
    "resultsdf = pd.DataFrame(results_transformed) \n",
    "resultsdf = resultsdf.sort_values(by=1,ascending=False)\n",
    "resultsdf.columns = [\"Classifier\", \"On Test\", \"On Training\"] \n",
    "resultsdf\n"
   ]
  },
  {
   "cell_type": "markdown",
   "metadata": {},
   "source": [
    "Finally, we have found a method that has provided some significant improvement to the majority of the models! \n",
    "\n",
    "### ROC curves of best models: QDA, Gaussian Naive Bayes, Linear SVM, Rand Forest, and Logit \n"
   ]
  },
  {
   "cell_type": "code",
   "execution_count": 66,
   "metadata": {
    "collapsed": false
   },
   "outputs": [
    {
     "name": "stdout",
     "output_type": "stream",
     "text": [
      "Automatically created module for IPython interactive environment\n"
     ]
    }
   ],
   "source": [
    "print(__doc__)\n",
    "\n",
    "import numpy as np\n",
    "import matplotlib.pyplot as plt\n",
    "from itertools import cycle\n",
    "\n",
    "from sklearn.metrics import roc_curve, auc\n",
    "from sklearn.preprocessing import label_binarize\n",
    "from sklearn.multiclass import OneVsRestClassifier\n",
    "from scipy import interp\n",
    "\n",
    "\n",
    "# This method transforms inputs via LDA and plots an ROC plot of the classifier's predictions \n",
    "def plot_ROC(name, classifier): \n",
    "    arrayY = np.array(trainY[0:17377])\n",
    "    arrayXm = np.array(trainX_mean[0:17377])\n",
    "\n",
    "    lda = LinearDiscriminantAnalysis(n_components=20, solver='eigen', shrinkage='auto')\n",
    "    arrayXmt = lda.fit(arrayXm, arrayY).transform(arrayXm)\n",
    "\n",
    "    y = pd.DataFrame(arrayY)\n",
    "    X = pd.DataFrame(arrayXmt)\n",
    "\n",
    "    # Binarize the output\n",
    "    y = label_binarize(y, classes=[\"1\", \"2\", \"3\", \"4\"])\n",
    "    n_classes = y.shape[1]\n",
    "\n",
    "    # shuffle and split training and test sets\n",
    "    X_train, X_test, y_train, y_test = train_test_split(X, y, test_size=.5, random_state=0)\n",
    "\n",
    "    # Learn to predict each class against the other\n",
    "    classifier = OneVsRestClassifier(classifier)\n",
    "\n",
    "    y_score = classifier.fit(X_train, y_train).decision_function(X_test)\n",
    "\n",
    "    # Compute ROC curve and ROC area for each class\n",
    "    fpr = dict()\n",
    "    tpr = dict()\n",
    "    roc_auc = dict()\n",
    "    for i in range(n_classes):\n",
    "        fpr[i], tpr[i], _ = roc_curve(y_test[:, i], y_score[:, i])\n",
    "        roc_auc[i] = auc(fpr[i], tpr[i])\n",
    "\n",
    "    # Compute micro-average ROC curve and ROC area\n",
    "    fpr[\"micro\"], tpr[\"micro\"], _ = roc_curve(y_test.ravel(), y_score.ravel())\n",
    "    roc_auc[\"micro\"] = auc(fpr[\"micro\"], tpr[\"micro\"])\n",
    "\n",
    "\n",
    "    # Compute macro-average ROC curve and ROC area\n",
    "\n",
    "    # First aggregate all false positive rates\n",
    "    all_fpr = np.unique(np.concatenate([fpr[i] for i in range(n_classes)]))\n",
    "\n",
    "    # Then interpolate all ROC curves at this points\n",
    "    mean_tpr = np.zeros_like(all_fpr)\n",
    "    for i in range(n_classes):\n",
    "        mean_tpr += interp(all_fpr, fpr[i], tpr[i])\n",
    "\n",
    "    # Finally average it and compute AUC\n",
    "    mean_tpr /= n_classes\n",
    "\n",
    "    fpr[\"macro\"] = all_fpr\n",
    "    tpr[\"macro\"] = mean_tpr\n",
    "    roc_auc[\"macro\"] = auc(fpr[\"macro\"], tpr[\"macro\"])\n",
    "\n",
    "\n",
    "    # Plot all ROC curves\n",
    "    plt.figure()\n",
    "    plt.plot(fpr[\"micro\"], tpr[\"micro\"],\n",
    "             label='micro-average ROC curve (area = {0:0.2f})'\n",
    "                   ''.format(roc_auc[\"micro\"]),\n",
    "             color='deeppink', linestyle=':', linewidth=4)\n",
    "\n",
    "    plt.plot(fpr[\"macro\"], tpr[\"macro\"],\n",
    "             label='macro-average ROC curve (area = {0:0.2f})'\n",
    "                   ''.format(roc_auc[\"macro\"]),\n",
    "             color='navy', linestyle=':', linewidth=4)\n",
    "\n",
    "    colors = cycle(['aqua', 'darkorange', 'cornflowerblue', 'purple'])\n",
    "    for i, color in zip(range(n_classes), colors):\n",
    "        plt.plot(fpr[i], tpr[i], color=color, lw=lw,\n",
    "                 label='ROC curve of class {0} (area = {1:0.2f})'\n",
    "                 ''.format(i, roc_auc[i]))\n",
    "\n",
    "    plt.plot([0, 1], [0, 1], 'k--', lw=lw)\n",
    "    plt.xlim([0.0, 1.0])\n",
    "    plt.ylim([0.0, 1.05])\n",
    "    plt.xlabel('False Positive Rate')\n",
    "    plt.ylabel('True Positive Rate')\n",
    "    plt.title('%s ROC'% name)\n",
    "    plt.legend(loc=\"lower right\")\n",
    "    plt.show()\n",
    "\n",
    "\n"
   ]
  },
  {
   "cell_type": "markdown",
   "metadata": {},
   "source": [
    "# ROC curves for best three classifiers \n",
    "\n",
    "From the ROC curves, we can see that our best classifier, QuadraticDiscriminantAnalysis, has the greatest area under the curve for all four classes, as well as the greatest averages. "
   ]
  },
  {
   "cell_type": "code",
   "execution_count": 65,
   "metadata": {
    "collapsed": false
   },
   "outputs": [
    {
     "data": {
      "image/png": "[encoded data removed]",
      "text/plain": [
       "<matplotlib.figure.Figure at 0x7fdfe8597c18>"
      ]
     },
     "metadata": {},
     "output_type": "display_data"
    },
    {
     "data": {
      "image/png": "[encoded data removed]",
      "text/plain": [
       "<matplotlib.figure.Figure at 0x7fdfa012b198>"
      ]
     },
     "metadata": {},
     "output_type": "display_data"
    },
    {
     "data": {
      "image/png": "[encoded data removed]",
      "text/plain": [
       "<matplotlib.figure.Figure at 0x7fdfa1a3fe80>"
      ]
     },
     "metadata": {},
     "output_type": "display_data"
    }
   ],
   "source": [
    "classifiers = [\n",
    "    [\"Logit l=4\", LogisticRegression(C=4)],\n",
    "    #[\"Rand Forest2\", RandomForestClassifier(n_estimators=30, criterion='entropy', max_depth=20, min_samples_leaf=20, \n",
    "    #                       bootstrap=True, oob_score=False, random_state=0 )],\n",
    "    #[\"GaussianNB\",GaussianNB() ],\n",
    "    [\"Linear SVM\", SVC(kernel='linear', C=0.5)],\n",
    "    [\"QDA\", QuadraticDiscriminantAnalysis()]\n",
    "]\n",
    "\n",
    "for name, clf in classifiers: \n",
    "    plot_ROC(name, clf)\n"
   ]
  },
  {
   "cell_type": "markdown",
   "metadata": {},
   "source": [
    "\n",
    "###  Revisiting our original plan \n",
    "\n",
    "From our original list, we were going to: \n",
    "\n",
    "* Check that the label counts are balanced. \n",
    "    * Balancing data did little to help most models, but did increase bias. I used pandas to undersample by sampling without replacement undersampling, and oversample by sampling with replacements. \n",
    "* Transform dimensions using PCA, find separation using LDA \n",
    "    * This was very helpful to all models, except for SVM using a non-linear kernel (RBF SVM) \n",
    "* Try different lambdas and kernels\n",
    "    * Decreasing lambda on logit improved model performance, as is expected in models with high bias. \n",
    "* Try different complexity of models \n",
    "    * More complexity did not help prior to LDA and PCA\n",
    "    * After LDA and PCA, complexity paid off most notibly in the random forests. Trees up to 20 nodes deep were still accurate. Untransformed inputs did poorly overall in trees, but the simplest trees were relatively better. \n",
    "* Rerun the panel of models after each change, and search for the best ones after applying all the changes\n",
    "    * I am glad that I ran many classifers using the transformed features, including classifiers that performed poorly using untransformed features. It makes sense because some classifiers rely on being able to linearly separate data. \n",
    "\n",
    "\n",
    "\n",
    "# Summary code: \n",
    "\n",
    "Finally, let's collect together all steps of the process and make predictions \n",
    "\n",
    "\n"
   ]
  },
  {
   "cell_type": "code",
   "execution_count": 67,
   "metadata": {
    "collapsed": false
   },
   "outputs": [
    {
     "name": "stdout",
     "output_type": "stream",
     "text": [
      "[ 0.79413456  0.79113924  0.79539568  0.80023028  0.81375936]\n"
     ]
    }
   ],
   "source": [
    "from sklearn.discriminant_analysis import QuadraticDiscriminantAnalysis\n",
    "from sklearn.cross_validation import train_test_split, cross_val_score\n",
    "import operator \n",
    "import numpy as np \n",
    "from sklearn.discriminant_analysis import LinearDiscriminantAnalysis\n",
    "\n",
    "\n",
    "### Load data in and replace NA->0 \n",
    "trainX = [] \n",
    "with open(\"/home/lu/Documents/School/81_machine_learning/HW3/HW3/trainingData.txt\", 'r') as rp: \n",
    "    for line in rp.read().split(\"\\n\"): \n",
    "        row = line.split(\"\\t\") \n",
    "        column_i = 0 # cell index \n",
    "        for cell in row: \n",
    "            try: \n",
    "                row[column_i] = float(cell)\n",
    "            except ValueError: \n",
    "                row[column_i] = 0 \n",
    "            column_i+=1  \n",
    "        trainX.append(row)\n",
    "        \n",
    "        \n",
    "### Sample some entries from the X data set \n",
    "sampleX = np.array(trainX[0:1000])\n",
    "\n",
    "### Calculate an array of means \n",
    "feature_means = np.mean(sampleX, axis=0)\n",
    "\n",
    "trainX_mean = [] \n",
    "with open(\"/home/lu/Documents/School/81_machine_learning/HW3/HW3/trainingData.txt\", 'r') as rp: \n",
    "    for line in rp.read().split(\"\\n\"): \n",
    "        row = line.split(\"\\t\") \n",
    "        column_i = 0 # cell index \n",
    "        for cell in row: \n",
    "            try: \n",
    "                row[column_i] = float(cell)\n",
    "            except ValueError: \n",
    "                row[column_i] = feature_means[column_i]\n",
    "            column_i+=1  \n",
    "        trainX_mean.append(row)\n",
    "        \n",
    "trainY = [] \n",
    "with open(\"/home/lu/Documents/School/81_machine_learning/HW3/HW3/trainingTruth.txt\", 'r') as rp: \n",
    "    for line in rp.read().split(\"\\n\"): \n",
    "        trainY.append(line)\n",
    "\n",
    "### Truncate the trailing new lines         \n",
    "arrayY = np.array(trainY[0:17377])\n",
    "arrayXm = np.array(trainX_mean[0:17377])\n",
    "\n",
    "### Perform LDA on all of the available X and Y data, and use 5 fold cross validation to sanity check\n",
    "X_train = arrayXm \n",
    "y_train = arrayY \n",
    "\n",
    "lda = LinearDiscriminantAnalysis(n_components=20, solver='eigen', shrinkage='auto')\n",
    "X_train = lda.fit(X_train, y_train).transform(X_train)\n",
    "\n",
    "### Fit a QDA model with the transformed training data and training truth \n",
    "clf = QuadraticDiscriminantAnalysis()\n",
    "clf.fit(X_train, y_train)\n",
    "scores = cross_val_score(clf, X_train, y_train, cv=5)\n",
    "print(scores)\n",
    "\n",
    "### Load in blind data \n",
    "blindX = [] \n",
    "with open(\"/home/lu/Documents/School/81_machine_learning/HW3/HW3/blindData.txt\", 'r') as rp: \n",
    "    for line in rp.read().split(\"\\n\"): \n",
    "        row = line.split(\"\\t\") \n",
    "        i = 0 \n",
    "        for cell in row: \n",
    "            try: \n",
    "                row[i] = float(cell)\n",
    "            except ValueError: \n",
    "                row[i] = 0 \n",
    "            i+=1 \n",
    "        ### Remove trailing column \n",
    "        blindX.append(row[0:334])\n",
    "\n",
    "### Truncate the last row \n",
    "arrayBlind = np.array(blindX[0:20050])\n",
    "\n",
    "\n",
    "### Transform the blind data \n",
    "X_blind = lda.transform(arrayBlind)\n",
    "\n",
    "\n",
    "### Create predictions \n",
    "prob_array = clf.predict_proba(X_blind)\n",
    "\n",
    "### Write predictions to file \n",
    "with open('wang_ochoa_blind_predictions.csv', 'w') as wp: \n",
    "    for row in prob_array: \n",
    "        index, value = max(enumerate(row), key=operator.itemgetter(1))\n",
    "        line_list = [\"%.3f\" % x for x in row] + [str(index+1)] \n",
    "        line_str = '\\t'.join(line_list)+'\\n'\n",
    "        wp.write(line_str)"
   ]
  }
 ],
 "metadata": {
  "anaconda-cloud": {},
  "kernelspec": {
   "display_name": "Python [Root]",
   "language": "python",
   "name": "Python [Root]"
  },
  "language_info": {
   "codemirror_mode": {
    "name": "ipython",
    "version": 3
   },
   "file_extension": ".py",
   "mimetype": "text/x-python",
   "name": "python",
   "nbconvert_exporter": "python",
   "pygments_lexer": "ipython3",
   "version": "3.5.2"
  }
 },
 "nbformat": 4,
 "nbformat_minor": 0
}
