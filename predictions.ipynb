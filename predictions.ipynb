{
 "cells": [
  {
   "cell_type": "code",
   "execution_count": 2,
   "metadata": {
    "collapsed": false
   },
   "outputs": [],
   "source": [
    "%matplotlib inline"
   ]
  },
  {
   "cell_type": "markdown",
   "metadata": {},
   "source": [
    "\n",
    "# Classifier comparison\n",
    "\n",
    "\n",
    "A comparison of a several classifiers in scikit-learn.\n",
    "\n"
   ]
  },
  {
   "cell_type": "code",
   "execution_count": 6,
   "metadata": {
    "collapsed": false
   },
   "outputs": [
    {
     "name": "stdout",
     "output_type": "stream",
     "text": [
      "Automatically created module for IPython interactive environment\n"
     ]
    }
   ],
   "source": [
    "print(__doc__)\n",
    "\n",
    "\n",
    "# Code source: Gaël Varoquaux\n",
    "#              Andreas Müller\n",
    "# Modified for documentation by Jaques Grobler\n",
    "# License: BSD 3 clause\n",
    "\n",
    "import numpy as np\n",
    "import matplotlib.pyplot as plt\n",
    "from matplotlib.colors import ListedColormap\n",
    "from sklearn.cross_validation import train_test_split, cross_val_score\n",
    "from sklearn.preprocessing import StandardScaler\n",
    "from sklearn.datasets import make_moons, make_circles, make_classification\n",
    "#from sklearn.neural_network import MLPClassifier\n",
    "from sklearn.neighbors import KNeighborsClassifier\n",
    "from sklearn.svm import SVC\n",
    "#from sklearn.gaussian_process import GaussianProcessClassifier\n",
    "#from sklearn.gaussian_process.kernels import RBF\n",
    "from sklearn.tree import DecisionTreeClassifier\n",
    "from sklearn.ensemble import RandomForestClassifier, AdaBoostClassifier\n",
    "from sklearn.naive_bayes import GaussianNB, MultinomialNB, BernoulliNB\n",
    "from sklearn.linear_model import LogisticRegression, LogisticRegressionCV\n",
    "from sklearn.discriminant_analysis import QuadraticDiscriminantAnalysis"
   ]
  },
  {
   "cell_type": "markdown",
   "metadata": {},
   "source": [
    "### Loading and pre-processing data\n",
    "\n",
    "To begin with, I replaced NA's with zeros. \n",
    "\n",
    "Later, I will see how many features were mostly \"NA\". If they are not important, I will probably drop them. "
   ]
  },
  {
   "cell_type": "code",
   "execution_count": 14,
   "metadata": {
    "collapsed": false
   },
   "outputs": [],
   "source": [
    "\n",
    "trainX = [] \n",
    "with open(\"/home/lu/Documents/School/81_machine_learning/HW3/HW3/trainingData.txt\", 'r') as rp: \n",
    "    for line in rp.read().split(\"\\n\"): \n",
    "        row = line.split(\"\\t\") \n",
    "        i = 0 \n",
    "        for cell in row: \n",
    "            try: \n",
    "                row[i] = float(cell)\n",
    "            except ValueError: \n",
    "                row[i] = 0 \n",
    "            i+=1 \n",
    "        trainX.append(row)\n",
    "        \n",
    "trainY = [] \n",
    "with open(\"/home/lu/Documents/School/81_machine_learning/HW3/HW3/trainingTruth.txt\", 'r') as rp: \n",
    "    for line in rp.read().split(\"\\n\"): \n",
    "        trainY.append(line)\n",
    "        \n",
    "testX = [] \n",
    "with open(\"/home/lu/Documents/School/81_machine_learning/HW3/HW3/testData.txt\", 'r') as rp: \n",
    "    for line in rp.read().split(\"\\n\"): \n",
    "        row = line.split(\"\\t\") \n",
    "        i = 0 \n",
    "        for cell in row: \n",
    "            try: \n",
    "                row[i] = float(cell)\n",
    "            except ValueError: \n",
    "                row[i] = 0 \n",
    "            i+=1 \n",
    "        testX.append(row)"
   ]
  },
  {
   "cell_type": "code",
   "execution_count": 15,
   "metadata": {
    "collapsed": false
   },
   "outputs": [],
   "source": [
    "### Split data into training and tests sets \n",
    "arrayX = np.array(trainX[0:3000])\n",
    "arrayY = np.array(trainY[0:3000])\n",
    "\n",
    "X_train, X_test, y_train, y_test = train_test_split(arrayX, arrayY, test_size=0.4, random_state=0)\n",
    "\n"
   ]
  },
  {
   "cell_type": "code",
   "execution_count": 32,
   "metadata": {
    "collapsed": false
   },
   "outputs": [
    {
     "name": "stdout",
     "output_type": "stream",
     "text": [
      "Classifier | Score on Test | Score on Train \n",
      "--- | --- | --- | \n",
      "DecisionTree |0.432|0.538\n",
      "['0.764', '0.125', '0.069', '0.042', 1]\n",
      "['0.279', '0.238', '0.354', '0.129', 3]\n",
      "['0.636', '0.364', '0.000', '0.000', 1]\n",
      "['0.313', '0.328', '0.179', '0.179', 2]\n",
      "['0.123', '0.219', '0.466', '0.192', 3]\n",
      "['0.417', '0.042', '0.083', '0.458', 4]\n",
      "['0.121', '0.319', '0.388', '0.172', 3]\n",
      "['0.000', '0.361', '0.446', '0.193', 3]\n",
      "['0.221', '0.283', '0.212', '0.283', 2]\n",
      "['0.121', '0.319', '0.388', '0.172', 3]\n",
      "QDA |0.368|1.000\n",
      "['0.000', '0.000', '1.000', '0.000', 3]\n",
      "['0.000', '0.000', '1.000', '0.000', 3]\n",
      "['0.000', '0.000', '1.000', '0.000', 3]\n",
      "['0.000', '0.000', '1.000', '0.000', 3]\n",
      "['0.000', '0.000', '1.000', '0.000', 3]\n",
      "['0.000', '0.000', '1.000', '0.000', 3]\n",
      "['0.000', '0.000', '1.000', '0.000', 3]\n",
      "['0.000', '0.000', '1.000', '0.000', 3]\n",
      "['0.000', '0.000', '1.000', '0.000', 3]\n",
      "['0.000', '0.000', '1.000', '0.000', 3]\n"
     ]
    },
    {
     "name": "stderr",
     "output_type": "stream",
     "text": [
      "/home/lu/anaconda3/lib/python3.5/site-packages/sklearn/discriminant_analysis.py:688: UserWarning: Variables are collinear\n",
      "  warnings.warn(\"Variables are collinear\")\n"
     ]
    },
    {
     "name": "stdout",
     "output_type": "stream",
     "text": [
      "Rand Forest |0.562|0.751\n",
      "['0.192', '0.229', '0.418', '0.161', 3]\n",
      "['0.179', '0.223', '0.452', '0.147', 3]\n",
      "['0.146', '0.218', '0.493', '0.143', 3]\n",
      "['0.201', '0.184', '0.479', '0.137', 3]\n",
      "['0.178', '0.304', '0.415', '0.103', 3]\n",
      "['0.255', '0.258', '0.295', '0.192', 3]\n",
      "['0.183', '0.235', '0.422', '0.160', 3]\n",
      "['0.214', '0.188', '0.452', '0.147', 3]\n",
      "['0.278', '0.303', '0.272', '0.147', 2]\n",
      "['0.209', '0.377', '0.287', '0.128', 2]\n",
      "Linear SVC |0.646|0.970\n",
      "['0.064', '0.082', '0.720', '0.134', 3]\n",
      "['0.007', '0.115', '0.665', '0.213', 3]\n",
      "['0.008', '0.071', '0.794', '0.126', 3]\n",
      "['0.014', '0.069', '0.885', '0.032', 3]\n",
      "['0.000', '0.070', '0.869', '0.060', 3]\n",
      "['0.768', '0.046', '0.100', '0.086', 1]\n",
      "['0.061', '0.110', '0.750', '0.078', 3]\n",
      "['0.236', '0.360', '0.241', '0.163', 2]\n",
      "['0.074', '0.198', '0.620', '0.108', 3]\n",
      "['0.045', '0.723', '0.040', '0.192', 2]\n",
      "Adaboost |0.574|0.670\n",
      "['0.243', '0.253', '0.255', '0.249', 3]\n",
      "['0.231', '0.252', '0.264', '0.253', 3]\n",
      "['0.242', '0.253', '0.256', '0.249', 3]\n",
      "['0.242', '0.247', '0.263', '0.248', 3]\n",
      "['0.220', '0.261', '0.264', '0.255', 3]\n",
      "['0.265', '0.251', '0.234', '0.250', 1]\n",
      "['0.221', '0.252', '0.276', '0.252', 3]\n",
      "['0.243', '0.250', '0.261', '0.246', 3]\n",
      "['0.266', '0.251', '0.242', '0.240', 1]\n",
      "['0.243', '0.260', '0.248', '0.249', 2]\n",
      "RBF SVM |0.368|1.000\n",
      "['0.249', '0.242', '0.352', '0.157', 3]\n",
      "['0.249', '0.242', '0.352', '0.157', 3]\n",
      "['0.249', '0.242', '0.352', '0.157', 3]\n",
      "['0.249', '0.242', '0.352', '0.157', 3]\n",
      "['0.249', '0.242', '0.352', '0.157', 3]\n",
      "['0.249', '0.242', '0.352', '0.157', 3]\n",
      "['0.249', '0.242', '0.352', '0.157', 3]\n",
      "['0.249', '0.242', '0.352', '0.157', 3]\n",
      "['0.249', '0.242', '0.352', '0.157', 3]\n",
      "['0.249', '0.242', '0.352', '0.157', 3]\n",
      "Logit l=4 |0.683|0.854\n",
      "['0.036', '0.063', '0.845', '0.055', 3]\n",
      "['0.000', '0.102', '0.766', '0.132', 3]\n",
      "['0.004', '0.051', '0.683', '0.261', 3]\n",
      "['0.012', '0.090', '0.895', '0.003', 3]\n",
      "['0.000', '0.352', '0.630', '0.018', 3]\n",
      "['0.811', '0.065', '0.007', '0.117', 1]\n",
      "['0.051', '0.016', '0.848', '0.084', 3]\n",
      "['0.226', '0.621', '0.115', '0.038', 2]\n",
      "['0.027', '0.728', '0.237', '0.007', 2]\n",
      "['0.010', '0.905', '0.003', '0.082', 2]\n",
      "Nearest Neighbors |0.566|0.704\n",
      "['0.000', '0.000', '1.000', '0.000', 3]\n",
      "['0.000', '0.000', '1.000', '0.000', 3]\n",
      "['0.000', '0.000', '1.000', '0.000', 3]\n",
      "['0.000', '0.000', '1.000', '0.000', 3]\n",
      "['0.000', '0.333', '0.667', '0.000', 3]\n",
      "['0.333', '0.000', '0.667', '0.000', 3]\n",
      "['0.000', '0.000', '1.000', '0.000', 3]\n",
      "['0.667', '0.000', '0.333', '0.000', 1]\n",
      "['0.333', '0.000', '0.667', '0.000', 3]\n",
      "['0.000', '1.000', '0.000', '0.000', 2]\n",
      "Logit l=2 |0.682|0.862\n",
      "['0.020', '0.043', '0.906', '0.031', 3]\n",
      "['0.000', '0.077', '0.808', '0.115', 3]\n",
      "['0.001', '0.034', '0.749', '0.216', 3]\n",
      "['0.005', '0.067', '0.927', '0.001', 3]\n",
      "['0.000', '0.347', '0.639', '0.014', 3]\n",
      "['0.857', '0.034', '0.006', '0.103', 1]\n",
      "['0.060', '0.013', '0.856', '0.072', 3]\n",
      "['0.167', '0.719', '0.093', '0.022', 2]\n",
      "['0.011', '0.719', '0.266', '0.004', 2]\n",
      "['0.003', '0.925', '0.001', '0.071', 2]\n",
      "GaussianNB |0.760|0.842\n",
      "['0.000', '0.010', '0.889', '0.101', 3]\n",
      "['0.000', '0.000', '1.000', '0.000', 3]\n",
      "['0.000', '0.011', '0.831', '0.158', 3]\n",
      "['0.000', '0.000', '1.000', '0.000', 3]\n",
      "['0.000', '0.086', '0.914', '0.000', 3]\n",
      "['0.141', '0.019', '0.738', '0.102', 3]\n",
      "['0.000', '0.003', '0.987', '0.010', 3]\n",
      "['0.001', '0.000', '0.994', '0.005', 3]\n",
      "['0.077', '0.897', '0.023', '0.003', 2]\n",
      "['0.001', '0.995', '0.000', '0.004', 2]\n",
      "Logit |0.682|0.875\n",
      "['0.010', '0.029', '0.942', '0.019', 3]\n",
      "['0.000', '0.056', '0.844', '0.100', 3]\n",
      "['0.000', '0.022', '0.797', '0.180', 3]\n",
      "['0.002', '0.049', '0.949', '0.001', 3]\n",
      "['0.000', '0.345', '0.643', '0.012', 3]\n",
      "['0.892', '0.016', '0.006', '0.087', 1]\n",
      "['0.080', '0.010', '0.848', '0.062', 3]\n",
      "['0.099', '0.806', '0.081', '0.015', 2]\n",
      "['0.003', '0.687', '0.307', '0.002', 2]\n",
      "['0.001', '0.936', '0.000', '0.063', 2]\n",
      "DecisionTree_old |0.426|0.571\n",
      "['0.119', '0.238', '0.508', '0.135', 3]\n",
      "['0.255', '0.298', '0.372', '0.074', 3]\n",
      "['0.167', '0.625', '0.167', '0.042', 2]\n",
      "['0.183', '0.167', '0.444', '0.206', 3]\n",
      "['0.183', '0.167', '0.444', '0.206', 3]\n",
      "['0.083', '0.000', '0.083', '0.833', 4]\n",
      "['0.092', '0.517', '0.218', '0.172', 2]\n",
      "['0.119', '0.238', '0.508', '0.135', 3]\n",
      "['0.211', '0.335', '0.236', '0.217', 2]\n",
      "['0.119', '0.238', '0.508', '0.135', 3]\n",
      "RandomForest_old |0.415|0.488\n",
      "['0.224', '0.265', '0.308', '0.203', 3]\n",
      "['0.227', '0.262', '0.346', '0.165', 3]\n",
      "['0.185', '0.302', '0.395', '0.118', 3]\n",
      "['0.183', '0.229', '0.438', '0.150', 3]\n",
      "['0.211', '0.240', '0.409', '0.140', 3]\n",
      "['0.238', '0.261', '0.347', '0.154', 3]\n",
      "['0.298', '0.239', '0.352', '0.112', 3]\n",
      "['0.252', '0.258', '0.321', '0.168', 3]\n",
      "['0.218', '0.307', '0.331', '0.143', 3]\n",
      "['0.237', '0.205', '0.347', '0.211', 3]\n"
     ]
    }
   ],
   "source": [
    "\n",
    "classifiers = {\n",
    "    \"Nearest Neighbors\": KNeighborsClassifier(3),\n",
    "    \"Linear SVC\": SVC(kernel=\"linear\", C=0.5, probability=True),\n",
    "    \"RBF SVM\": SVC(gamma=2, C=1, probability=True),\n",
    "    \"DecisionTree_old\": DecisionTreeClassifier(max_depth=5), \n",
    "    \"RandomForest_old\": RandomForestClassifier(max_depth=5, n_estimators=10, max_features=1),\n",
    "    \"DecisionTree\": DecisionTreeClassifier(criterion='entropy', max_depth=5, min_samples_leaf=20, random_state=0),\n",
    "    \"Rand Forest\": RandomForestClassifier(n_estimators=30, criterion='entropy', max_depth=20, min_samples_leaf=20, \n",
    "                           bootstrap=True, oob_score=False, random_state=0 ),\n",
    "    \"Adaboost\": AdaBoostClassifier(),\n",
    "    \"GaussianNB\": GaussianNB(),\n",
    "    \"Logit\": LogisticRegression(C=1), \n",
    "    \"Logit l=2\": LogisticRegression(C=0.5), \n",
    "    \"Logit l=4\": LogisticRegression(C=0.25),\n",
    "    \"QDA\": QuadraticDiscriminantAnalysis()\n",
    "}\n",
    "print(\"Classifier | Score on Test | Score on Train \")\n",
    "print(\"--- | --- | --- | \")\n",
    "\n",
    "\n",
    "import operator\n",
    "for name, classifier in  classifiers.items() : \n",
    "    clf=classifier\n",
    "    clf.fit(X_train, y_train)\n",
    "\n",
    "    ## Sanity check lines \n",
    "    #prob_array = clf.predict_proba(arrayX[0:10])\n",
    "\n",
    "    prob_array = clf.predict_proba(testX[0:10])\n",
    "    row = [\n",
    "        clf.score(X_test, y_test) ,clf.score(X_train, y_train), #comparing test and training on 4/6 split\n",
    "         ]\n",
    "    print( \"%s |\"%name + \"|\".join([\"%.3f\" % x for x in row]) )\n",
    "    \n",
    "    for row in prob_array: \n",
    "        index, value = max(enumerate(row), key=operator.itemgetter(1))\n",
    "        print([\"%.3f\" % x for x in row] + [index+1] )\n",
    "    "
   ]
  },
  {
   "cell_type": "code",
   "execution_count": 20,
   "metadata": {
    "collapsed": false
   },
   "outputs": [
    {
     "name": "stdout",
     "output_type": "stream",
     "text": [
      "['0.010', '0.029', '0.942', '0.019']\n",
      "['0.000', '0.056', '0.844', '0.100']\n",
      "['0.000', '0.022', '0.797', '0.180']\n",
      "['0.002', '0.049', '0.949', '0.001']\n",
      "['0.000', '0.345', '0.643', '0.012']\n",
      "['0.892', '0.016', '0.006', '0.087']\n",
      "['0.080', '0.010', '0.848', '0.062']\n",
      "['0.099', '0.806', '0.081', '0.015']\n",
      "['0.003', '0.687', '0.307', '0.002']\n",
      "['0.001', '0.936', '0.000', '0.063']\n"
     ]
    }
   ],
   "source": [
    "for row in prob_array: \n",
    "    print([\"%.3f\" % x for x in row])"
   ]
  }
 ],
 "metadata": {
  "anaconda-cloud": {},
  "kernelspec": {
   "display_name": "Python [Root]",
   "language": "python",
   "name": "Python [Root]"
  },
  "language_info": {
   "codemirror_mode": {
    "name": "ipython",
    "version": 3
   },
   "file_extension": ".py",
   "mimetype": "text/x-python",
   "name": "python",
   "nbconvert_exporter": "python",
   "pygments_lexer": "ipython3",
   "version": "3.5.2"
  }
 },
 "nbformat": 4,
 "nbformat_minor": 0
}
